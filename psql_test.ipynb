{
 "cells": [
  {
   "cell_type": "code",
   "execution_count": 3,
   "metadata": {},
   "outputs": [],
   "source": [
    "import psycopg2\n",
    "\n",
    "conn = psycopg2.connect(\n",
    "    host=\"rncbb-2607-fea8-680-3980-5eaf-1ed4-97d8-a8e9.a.free.pinggy.link\",\n",
    "    port=\"38695\",\n",
    "    database=\"postgres\",\n",
    "    user=\"postgres\",\n",
    "    password=\"$$Pmar1992\"\n",
    ")"
   ]
  },
  {
   "cell_type": "code",
   "execution_count": 4,
   "id": "fcf6bc9b",
   "metadata": {},
   "outputs": [
    {
     "name": "stdout",
     "output_type": "stream",
     "text": [
      "Tables in 'dbo' schema:\n",
      "------------------------------\n",
      "- executed_queries\n",
      "- fx_rate\n",
      "- index_const_process_log\n",
      "- index_constituents\n",
      "- index_name_mapping\n",
      "- index_return\n",
      "- index_return_process_log\n",
      "- request_logs\n",
      "- security_attribute\n",
      "- ta_smf\n",
      "- temp_benchmark_info\n",
      "- test_table\n",
      "- your_table_name\n",
      "\n",
      "Connection closed.\n"
     ]
    }
   ],
   "source": [
    "\n",
    "# Create a cursor object\n",
    "cursor = conn.cursor()\n",
    "\n",
    "try:\n",
    "    # Query to get all tables in the 'dbo' schema\n",
    "    query = \"\"\"\n",
    "    SELECT table_name \n",
    "    FROM information_schema.tables \n",
    "    WHERE table_schema = 'dbo' \n",
    "    AND table_type = 'BASE TABLE'\n",
    "    ORDER BY table_name;\n",
    "    \"\"\"\n",
    "    \n",
    "    # Execute the query\n",
    "    cursor.execute(query)\n",
    "    \n",
    "    # Fetch all results\n",
    "    tables = cursor.fetchall()\n",
    "    \n",
    "    # Display the results\n",
    "    print(\"Tables in 'dbo' schema:\")\n",
    "    print(\"-\" * 30)\n",
    "    \n",
    "    if tables:\n",
    "        for table in tables:\n",
    "            print(f\"- {table[0]}\")\n",
    "    else:\n",
    "        print(\"No tables found in 'dbo' schema.\")\n",
    "        \n",
    "        # Let's also check what schemas exist\n",
    "        print(\"\\nChecking available schemas:\")\n",
    "        cursor.execute(\"\"\"\n",
    "        SELECT schema_name \n",
    "        FROM information_schema.schemata \n",
    "        ORDER BY schema_name;\n",
    "        \"\"\")\n",
    "        \n",
    "        schemas = cursor.fetchall()\n",
    "        print(\"Available schemas:\")\n",
    "        for schema in schemas:\n",
    "            print(f\"- {schema[0]}\")\n",
    "\n",
    "except psycopg2.Error as e:\n",
    "    print(f\"Database error: {e}\")\n",
    "\n",
    "except Exception as e:\n",
    "    print(f\"Error: {e}\")\n",
    "\n",
    "finally:\n",
    "    # Close cursor and connection\n",
    "    if cursor:\n",
    "        cursor.close()\n",
    "    if conn:\n",
    "        conn.close()\n",
    "    print(\"\\nConnection closed.\")"
   ]
  }
 ],
 "metadata": {
  "kernelspec": {
   "display_name": "psql-connection",
   "language": "python",
   "name": "python3"
  },
  "language_info": {
   "codemirror_mode": {
    "name": "ipython",
    "version": 3
   },
   "file_extension": ".py",
   "mimetype": "text/x-python",
   "name": "python",
   "nbconvert_exporter": "python",
   "pygments_lexer": "ipython3",
   "version": "3.9.21"
  }
 },
 "nbformat": 4,
 "nbformat_minor": 5
}
